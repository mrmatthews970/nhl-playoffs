{
 "cells": [
  {
   "cell_type": "code",
   "execution_count": 1,
   "id": "bca09aa1",
   "metadata": {},
   "outputs": [],
   "source": [
    "class NHLTeam:\n",
    "    def __init__(self,name,conf,div,win,loss,otl,gf,ga,seed):\n",
    "        self.name = name\n",
    "        # Team's name\n",
    "        \n",
    "        self.conf = conf\n",
    "        assert conf == 'E' or conf == 'W'\n",
    "        # Conference is either Eastern (E) or Western (W)\n",
    "        \n",
    "        self.div = div\n",
    "        if conf == 'E':\n",
    "            assert div == 'ATL' or div == 'MET'\n",
    "            # If the conference is Eastern (E), the conference must be Atlantic (ATL) or Metropolitan (MET)\n",
    "            \n",
    "        elif conf == 'W':\n",
    "            assert div == 'CEN' or div == 'PAC'\n",
    "            # If the conference is Western (W), the conference must be Central (CEN) or Pacific (PAC)\n",
    "        \n",
    "        self.win = win\n",
    "        assert win >= 0 and type(win) == int\n",
    "        # Number of wins: counts for 2 points\n",
    "        \n",
    "        self.loss = loss\n",
    "        assert loss >= 0 and type(loss) == int\n",
    "        # Number of losses in regulation (within 3 periods): counts for 0 points\n",
    "        \n",
    "        self.otl = otl\n",
    "        assert otl >= 0 and type(otl) == int\n",
    "        # Number of overtime losses (beyond the 3 periods, shootout included): counts for 1 point\n",
    "        \n",
    "        self.gp = win+loss+otl\n",
    "        \n",
    "        self.pts = 2*win + otl\n",
    "        # 2*(wins) + 1*(overtime/shootout losses)\n",
    "        \n",
    "        self.gf = gf\n",
    "        assert type(gf) == int\n",
    "        # Number of goals scored for the team\n",
    "        \n",
    "        self.ga = ga\n",
    "        assert type(ga) == int\n",
    "        # Number of goals scored against the team\n",
    "        \n",
    "        self.diff = gf - ga\n",
    "        # (goals for) - (goals against)\n",
    "        \n",
    "        self.seed = seed"
   ]
  },
  {
   "cell_type": "markdown",
   "id": "fa84323b",
   "metadata": {},
   "source": [
    "# NHL Playoff Seeding Program\n",
    "\n",
    "- Eight teams from each conference make it to the playoffs.\n",
    "- The top three teams from each conference are included.\n",
    "- The two remaining wild card spots from each conference are the highest scoring teams that are not in the top 3.\n",
    "- If teams have the same score, then the team with more wins is ahead. If they have the same number of wins, then the team with more losses is lower.\n",
    "\n",
    "\n",
    "- The higher division champion plays the lower wild card seed, and the lower division champion plays the higher wild card seed. Second and third seeds play each other if they are in the same division.\n",
    "- The division champion/wild card seed will play the next game with the second/third seed in the same division as the division champion\n",
    "\n",
    "### (inconclusive, may require work)"
   ]
  },
  {
   "cell_type": "code",
   "execution_count": 2,
   "id": "2ba4f647",
   "metadata": {},
   "outputs": [],
   "source": [
    "# 2022 Season Team Statistics, naming based on NHL abbreviations\n",
    "\n",
    "ANA = NHLTeam(\"Anaheim Ducks\",'W','PAC',31,37,14,232,271,None)\n",
    "ARI = NHLTeam(\"Arizona Coyotes\",'W','CEN',25,50,7,207,313,None)\n",
    "BOS = NHLTeam(\"Boston Bruins\",'E','ATL',51,26,5,255,220,None)\n",
    "BUF = NHLTeam(\"Buffalo Sabres\",'E','ATL',32,39,11,232,290,None)\n",
    "CGY = NHLTeam(\"Calgary Flames\",'W','PAC',50,21,11,293,208,None)\n",
    "CAR = NHLTeam(\"Carolina Hurricanes\",'E','MET',54,20,8,278,202,None)\n",
    "CHI = NHLTeam(\"Chicago Blackhawks\",'W','CEN',28,42,12,219,291,None)\n",
    "COL = NHLTeam(\"Colorado Avalanche\",'W','CEN',56,19,7,312,234,None)\n",
    "CBJ = NHLTeam(\"Columbus Blue Jackets\",'E','MET',37,38,7,262,300,None)\n",
    "DAL = NHLTeam(\"Dallas Stars\",'W','CEN',46,30,6,238,246,None)\n",
    "DET = NHLTeam(\"Detroit Red Wings\",'E','ATL',32,40,10,230,312,None)\n",
    "EDM = NHLTeam(\"Edmonton Oilers\",'W','PAC',49,27,6,290,252,None)\n",
    "FLA = NHLTeam(\"Florida Panthers\",'E','ATL',58,18,6,340,246,None)\n",
    "LAK = NHLTeam(\"Los Angeles Kings\",'W','PAC',44,27,11,239,236,None)\n",
    "MIN = NHLTeam(\"Minnesota Wild\",'W','CEN',53,22,7,310,253,None)\n",
    "MTL = NHLTeam(\"Montreal Canadiens\",'E','ATL',22,49,11,221,319,None)\n",
    "NSH = NHLTeam(\"Nashville Predators\",'W','CEN',45,30,7,266,252,None)\n",
    "NJD = NHLTeam(\"New Jersey Devils\",'E','MET',27,46,9,248,307,None)\n",
    "NYI = NHLTeam(\"New York Islanders\",'E','MET',37,35,10,231,237,None)\n",
    "NYR = NHLTeam(\"New York Rangers\",'E','MET',52,24,6,254,207,None)\n",
    "OTT = NHLTeam(\"Ottawa Senators\",'E','ATL',33,42,7,227,266,None)\n",
    "PHI = NHLTeam(\"Philadelphia Flyers\",'E','MET',25,46,11,211,298,None)\n",
    "PIT = NHLTeam(\"Pittsburgh Penguins\",'E','MET',46,25,11,272,229,None)\n",
    "SJS = NHLTeam(\"San Jose Sharks\",'W','PAC',32,37,13,214,264,None)\n",
    "SEA = NHLTeam(\"Seattle Kraken\",'W','PAC',27,49,6,216,285,None)\n",
    "STL = NHLTeam(\"St. Louis Blues\",'W','CEN',49,22,11,311,242,None)\n",
    "TBL = NHLTeam(\"Tampa Bay Lightning\",'E','ATL',51,23,8,315,253,None)\n",
    "TOR = NHLTeam(\"Toronto Maple Leafs\",'E','ATL',54,21,7,315,253,None)\n",
    "VAN = NHLTeam(\"Vancouver Canucks\",'W','PAC',40,30,12,249,236,None)\n",
    "VGK = NHLTeam(\"Vegas Golden Knights\",'W','PAC',43,31,8,266,248,None)\n",
    "WSH = NHLTeam(\"Washington Capitals\",'E','MET',44,26,12,275,245,None)\n",
    "WPG = NHLTeam(\"Winnipeg Jets\",'W','CEN',39,32,11,252,257,None)"
   ]
  },
  {
   "cell_type": "code",
   "execution_count": 3,
   "id": "5e5f814e",
   "metadata": {},
   "outputs": [],
   "source": [
    "# Divisions based on NHL allocation\n",
    "\n",
    "Metro = [CAR,CBJ,NJD,NYI,NYR,PHI,PIT,WSH]\n",
    "Metro.sort(key = lambda x: x.pts,reverse = True)\n",
    "\n",
    "Atlantic = [BOS,BUF,DET,FLA,MTL,OTT,TBL,TOR]\n",
    "Atlantic.sort(key = lambda x: x.pts,reverse = True)\n",
    "\n",
    "Central = [ARI,CHI,COL,DAL,MIN,NSH,STL,WPG]\n",
    "Central.sort(key = lambda x: x.pts,reverse = True)\n",
    "\n",
    "Pacific = [ANA,CGY,EDM,LAK,SJS,SEA,VAN,VGK]\n",
    "Pacific.sort(key = lambda x: x.pts,reverse = True)"
   ]
  },
  {
   "cell_type": "code",
   "execution_count": 4,
   "id": "57530325",
   "metadata": {},
   "outputs": [],
   "source": [
    "# Main Seeds from each division\n",
    "\n",
    "MetroTop3 = Metro[:3]\n",
    "for count,team in enumerate(MetroTop3,start = 1):\n",
    "    team.seed = str(count)\n",
    "    \n",
    "AtlanticTop3 = Atlantic[:3]\n",
    "for count,team in enumerate(AtlanticTop3,start = 1):\n",
    "    team.seed = str(count)\n",
    "    \n",
    "CentralTop3 = Central[:3]\n",
    "for count,team in enumerate(CentralTop3,start = 1):\n",
    "    team.seed = str(count)\n",
    "    \n",
    "PacificTop3 = Pacific[:3]\n",
    "for count,team in enumerate(PacificTop3,start = 1):\n",
    "    team.seed = str(count)\n",
    "    \n",
    "# Wild Card Seeds from teams not in the Top 3 in divisions\n",
    "\n",
    "EastRest = Metro[3:] + Atlantic[3:]\n",
    "WestRest = Central[3:] + Pacific[3:]\n",
    "\n",
    "EastRest.sort(key = lambda x: x.pts,reverse = True)\n",
    "WestRest.sort(key = lambda x: x.pts,reverse = True)\n",
    "\n",
    "EastWC = EastRest[:2]\n",
    "for count,team in enumerate(EastWC,start = 1):\n",
    "    team.seed = \"WC\"+str(count)\n",
    "    \n",
    "WestWC = WestRest[:2]\n",
    "for count,team in enumerate(WestWC,start = 1):\n",
    "    team.seed = \"WC\"+str(count)"
   ]
  },
  {
   "cell_type": "code",
   "execution_count": 5,
   "id": "984b4df7",
   "metadata": {},
   "outputs": [],
   "source": [
    "# Eliminated Teams get an E\n",
    "\n",
    "Elim = EastRest[3:] + WestRest[3:]\n",
    "for team in Elim:\n",
    "    team.seed = \"E\""
   ]
  },
  {
   "cell_type": "code",
   "execution_count": 6,
   "id": "5a07bac0",
   "metadata": {},
   "outputs": [],
   "source": [
    "# Sorting Conference Champions\n",
    "\n",
    "EastChamps = [MetroTop3[0],AtlanticTop3[0]]\n",
    "EastChamps.sort(key = lambda x: x.pts,reverse = True)\n",
    "\n",
    "WestChamps = [CentralTop3[0],PacificTop3[0]]\n",
    "WestChamps.sort(key = lambda x: x.pts,reverse = True)"
   ]
  },
  {
   "cell_type": "code",
   "execution_count": 7,
   "id": "7f6c1130",
   "metadata": {},
   "outputs": [],
   "source": [
    "# Playoff Bracket\n",
    "\n",
    "EG1 = [EastChamps[0],EastWC[1]]\n",
    "EG2 = [EastChamps[1],EastWC[0]]\n",
    "EG3 = [MetroTop3[1],MetroTop3[2]]\n",
    "EG4 = [AtlanticTop3[1],AtlanticTop3[2]]\n",
    "EastGames = [EG1,EG2,EG3,EG4]\n",
    "EastGames.sort(key = lambda x: x[0].div)\n",
    "\n",
    "WG1 = [WestChamps[0],WestWC[1]]\n",
    "WG2 = [WestChamps[1],WestWC[0]]\n",
    "WG3 = [CentralTop3[1],CentralTop3[2]]\n",
    "WG4 = [PacificTop3[1],PacificTop3[2]]\n",
    "WestGames = [WG1,WG2,WG3,WG4]\n",
    "WestGames.sort(key = lambda x: x[0].div)"
   ]
  },
  {
   "cell_type": "code",
   "execution_count": 8,
   "id": "ec8c6c41",
   "metadata": {},
   "outputs": [
    {
     "name": "stdout",
     "output_type": "stream",
     "text": [
      "Western Conference Playoff Seeding:\n",
      "Game 1: Colorado Avalanche (1) vs. Nashville Predators (WC2)\n",
      "Game 2: Minnesota Wild (2) vs. St. Louis Blues (3)\n",
      "Game 3: Calgary Flames (1) vs. Dallas Stars (WC1)\n",
      "Game 4: Edmonton Oilers (2) vs. Los Angeles Kings (3)\n"
     ]
    }
   ],
   "source": [
    "print(\"Western Conference Playoff Seeding:\")\n",
    "for count,game in enumerate(WestGames,start = 1):\n",
    "    print(\"Game \" + str(count) + \": \" + game[0].name + \" (\"+game[0].seed+\")\" + \" vs. \" + \n",
    "          game[1].name + \" (\"+game[1].seed+\")\")"
   ]
  },
  {
   "cell_type": "code",
   "execution_count": 9,
   "id": "95b30d59",
   "metadata": {},
   "outputs": [
    {
     "name": "stdout",
     "output_type": "stream",
     "text": [
      "Eastern Conference Playoff Seeding:\n",
      "Game 1: Florida Panthers (1) vs. Washington Capitals (WC2)\n",
      "Game 2: Toronto Maple Leafs (2) vs. Tampa Bay Lightning (3)\n",
      "Game 3: Carolina Hurricanes (1) vs. Boston Bruins (WC1)\n",
      "Game 4: New York Rangers (2) vs. Pittsburgh Penguins (3)\n"
     ]
    }
   ],
   "source": [
    "print(\"Eastern Conference Playoff Seeding:\")\n",
    "for count,game in enumerate(EastGames,start = 1):\n",
    "    print(\"Game \" + str(count) + \": \" + game[0].name + \" (\"+game[0].seed+\")\" + \" vs. \" + \n",
    "          game[1].name + \" (\"+game[1].seed+\")\")"
   ]
  },
  {
   "cell_type": "code",
   "execution_count": null,
   "id": "15c2cfac",
   "metadata": {},
   "outputs": [],
   "source": []
  },
  {
   "cell_type": "code",
   "execution_count": null,
   "id": "ba55278f",
   "metadata": {},
   "outputs": [],
   "source": []
  }
 ],
 "metadata": {
  "kernelspec": {
   "display_name": "Python 3",
   "language": "python",
   "name": "python3"
  },
  "language_info": {
   "codemirror_mode": {
    "name": "ipython",
    "version": 3
   },
   "file_extension": ".py",
   "mimetype": "text/x-python",
   "name": "python",
   "nbconvert_exporter": "python",
   "pygments_lexer": "ipython3",
   "version": "3.8.8"
  }
 },
 "nbformat": 4,
 "nbformat_minor": 5
}
